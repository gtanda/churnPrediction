{
 "cells": [
  {
   "cell_type": "code",
   "execution_count": 152,
   "metadata": {},
   "outputs": [],
   "source": [
    "import pandas as pd\n",
    "import numpy as np\n",
    "import matplotlib.pyplot as plt\n",
    "import seaborn as sns\n",
    "from sklearn.preprocessing import OrdinalEncoder\n",
    "from sklearn import preprocessing\n",
    "from sklearn.ensemble import RandomForestClassifier\n",
    "from sklearn.model_selection import train_test_split"
   ]
  },
  {
   "cell_type": "code",
   "execution_count": 153,
   "metadata": {},
   "outputs": [],
   "source": [
    "df = pd.read_csv('customer_data.csv')\n",
    "df.columns = [col.lower() for col in df.columns]\n",
    "df.columns = df.columns.str.replace(' ', '_')\n",
    "df.drop(columns=['customerid', 'count'], axis = 1, inplace=True)"
   ]
  },
  {
   "cell_type": "code",
   "execution_count": 154,
   "metadata": {},
   "outputs": [],
   "source": [
    "y = df['churn_value']\n",
    "df.drop(columns=['churn_value', 'churn_label', 'churn_score', 'cltv', 'churn_reason'], inplace=True)\n",
    "df.drop(columns=['country', 'state', 'city', 'zip_code', 'lat_long', 'latitude', 'longitude'], inplace=True)\n",
    "X = df.loc[:]"
   ]
  },
  {
   "cell_type": "code",
   "execution_count": 155,
   "metadata": {},
   "outputs": [
    {
     "data": {
      "text/plain": [
       "array([[1.000e+00, 0.000e+00, 0.000e+00, ..., 3.000e+00, 4.360e+02,\n",
       "        1.570e+02],\n",
       "       [0.000e+00, 0.000e+00, 0.000e+00, ..., 2.000e+00, 7.290e+02,\n",
       "        9.250e+02],\n",
       "       [0.000e+00, 0.000e+00, 0.000e+00, ..., 2.000e+00, 1.274e+03,\n",
       "        6.104e+03],\n",
       "       ...,\n",
       "       [0.000e+00, 0.000e+00, 1.000e+00, ..., 1.000e+00, 1.340e+03,\n",
       "        5.698e+03],\n",
       "       [0.000e+00, 0.000e+00, 1.000e+00, ..., 2.000e+00, 1.370e+02,\n",
       "        2.994e+03],\n",
       "       [1.000e+00, 0.000e+00, 0.000e+00, ..., 0.000e+00, 1.388e+03,\n",
       "        5.407e+03]])"
      ]
     },
     "execution_count": 155,
     "metadata": {},
     "output_type": "execute_result"
    }
   ],
   "source": [
    "oe = OrdinalEncoder()\n",
    "oe.fit_transform(X)"
   ]
  },
  {
   "cell_type": "code",
   "execution_count": 156,
   "metadata": {},
   "outputs": [],
   "source": [
    "for col in X.columns:\n",
    "    if X.columns.dtype == 'object':\n",
    "        X[col] = oe.fit_transform(X[[col]])\n",
    "new_features = pd.DataFrame(X, columns=['tenure_months', 'monthly_charges', 'total_charges'])"
   ]
  },
  {
   "cell_type": "code",
   "execution_count": 157,
   "metadata": {},
   "outputs": [],
   "source": [
    "# plt.figure(figsize=(20,20))\n",
    "# cor = X.corr()\n",
    "# sns.heatmap(cor, annot=True, cmap=plt.cm.Reds)\n",
    "# plt.show()"
   ]
  },
  {
   "cell_type": "code",
   "execution_count": 158,
   "metadata": {},
   "outputs": [
    {
     "name": "stdout",
     "output_type": "stream",
     "text": [
      "Feature: 0, Score: 0.02739\n",
      "Feature: 1, Score: 0.02101\n",
      "Feature: 2, Score: 0.02495\n",
      "Feature: 3, Score: 0.03578\n",
      "Feature: 4, Score: 0.16990\n",
      "Feature: 5, Score: 0.00550\n",
      "Feature: 6, Score: 0.02245\n",
      "Feature: 7, Score: 0.02401\n",
      "Feature: 8, Score: 0.04787\n",
      "Feature: 9, Score: 0.02746\n",
      "Feature: 10, Score: 0.02360\n",
      "Feature: 11, Score: 0.04585\n",
      "Feature: 12, Score: 0.01677\n",
      "Feature: 13, Score: 0.01671\n",
      "Feature: 14, Score: 0.07831\n",
      "Feature: 15, Score: 0.02487\n",
      "Feature: 16, Score: 0.05005\n",
      "Feature: 17, Score: 0.17193\n",
      "Feature: 18, Score: 0.16559\n"
     ]
    }
   ],
   "source": [
    "model_tree = RandomForestClassifier(n_estimators=100, random_state=0, n_jobs=-1)\n",
    "model_tree.fit(X, y)\n",
    "importance_tree = model_tree.feature_importances_\n",
    "for i, v in enumerate(importance_tree):\n",
    "    print('Feature: %0d, Score: %.5f' %(i,v))"
   ]
  },
  {
   "cell_type": "code",
   "execution_count": 159,
   "metadata": {},
   "outputs": [
    {
     "data": {
      "image/png": "[encoded data removed]",
      "text/plain": [
       "<Figure size 432x288 with 1 Axes>"
      ]
     },
     "metadata": {
      "needs_background": "light"
     },
     "output_type": "display_data"
    }
   ],
   "source": [
    "values = ([x for x in range(len(importance_tree))], importance_tree)\n",
    "fig = plt.figure()\n",
    "\n",
    "ax = fig.add_axes([0,0,1,1])\n",
    "ax.bar(values[0], values[1], 0.7)\n",
    "ax.set_ylabel('Feature Importance %')\n",
    "ax.set_title('Feature Importance')\n",
    "ax.set_xlabel('Feature #')\n",
    "ax.set_xticks(range(len(values[1])))\n",
    "plt.show()"
   ]
  },
  {
   "cell_type": "code",
   "execution_count": 160,
   "metadata": {},
   "outputs": [
    {
     "data": {
      "text/plain": [
       "0.7984386089425124"
      ]
     },
     "execution_count": 160,
     "metadata": {},
     "output_type": "execute_result"
    }
   ],
   "source": [
    "X_train, X_test, y_train, y_test = train_test_split(X, y, test_size=0.2, random_state=0)\n",
    "clf = RandomForestClassifier(n_estimators=100, random_state=0, n_jobs=-1)\n",
    "clf.fit(X_train, y_train)\n",
    "clf.score(X_test, y_test)"
   ]
  },
  {
   "cell_type": "code",
   "execution_count": 161,
   "metadata": {},
   "outputs": [],
   "source": [
    "# cols_to_drop = []\n",
    "# for idx, val in enumerate(importance_tree):\n",
    "#     if val < 0.027 or val <= 0:\n",
    "#         cols_to_drop.append(X.columns[idx - 1])"
   ]
  },
  {
   "cell_type": "code",
   "execution_count": 162,
   "metadata": {},
   "outputs": [],
   "source": [
    "# for col in cols_to_drop:\n",
    "#     X.drop(columns=col, inplace=True)"
   ]
  },
  {
   "cell_type": "code",
   "execution_count": 163,
   "metadata": {},
   "outputs": [
    {
     "name": "stdout",
     "output_type": "stream",
     "text": [
      "Feature: 0, Score: 0.27001\n",
      "Feature: 1, Score: 0.38812\n",
      "Feature: 2, Score: 0.34187\n"
     ]
    }
   ],
   "source": [
    "model_tree = RandomForestClassifier(n_estimators=100, random_state=0, n_jobs=-1)\n",
    "X_train, X_test, y_train, y_test = train_test_split(new_features, y, test_size=0.2, random_state=0)\n",
    "model_tree.fit(X_train, y_train)\n",
    "importance_tree2 = model_tree.feature_importances_\n",
    "for i, v in enumerate(importance_tree2):\n",
    "    print('Feature: %0d, Score: %.5f' %(i,v))"
   ]
  },
  {
   "cell_type": "code",
   "execution_count": 164,
   "metadata": {},
   "outputs": [
    {
     "data": {
      "image/png": "[encoded data removed]",
      "text/plain": [
       "<Figure size 432x288 with 1 Axes>"
      ]
     },
     "metadata": {
      "needs_background": "light"
     },
     "output_type": "display_data"
    }
   ],
   "source": [
    "values = ([x for x in range(len(importance_tree2))], importance_tree2)\n",
    "fig = plt.figure()\n",
    "\n",
    "ax = fig.add_axes([0,0,1,1])\n",
    "ax.bar(values[0], values[1], 0.7)\n",
    "ax.set_ylabel('Feature Importance %')\n",
    "ax.set_title('Feature Importance')\n",
    "ax.set_xlabel('Feature #')\n",
    "ax.set_xticks(range(len(values[1])))\n",
    "plt.show()"
   ]
  },
  {
   "cell_type": "code",
   "execution_count": 166,
   "metadata": {},
   "outputs": [
    {
     "data": {
      "text/plain": [
       "0.7508871540099361"
      ]
     },
     "execution_count": 166,
     "metadata": {},
     "output_type": "execute_result"
    }
   ],
   "source": [
    "X_train, X_test, y_train, y_test = train_test_split(new_features, y, test_size=0.2, random_state=0)\n",
    "clf2 = RandomForestClassifier(n_estimators=100, random_state=0, n_jobs=-1)\n",
    "clf2.fit(X_train, y_train)\n",
    "clf2.score(X_test, y_test)"
   ]
  },
  {
   "cell_type": "code",
   "execution_count": null,
   "metadata": {},
   "outputs": [],
   "source": []
  }
 ],
 "metadata": {
  "kernelspec": {
   "display_name": "Python 3",
   "language": "python",
   "name": "python3"
  },
  "language_info": {
   "codemirror_mode": {
    "name": "ipython",
    "version": 3
   },
   "file_extension": ".py",
   "mimetype": "text/x-python",
   "name": "python",
   "nbconvert_exporter": "python",
   "pygments_lexer": "ipython3",
   "version": "3.8.5"
  }
 },
 "nbformat": 4,
 "nbformat_minor": 4
}
